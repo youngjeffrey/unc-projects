{
 "cells": [
  {
   "cell_type": "markdown",
   "metadata": {},
   "source": [
    "# A4 Implement a RESTful service\n",
    "\n",
    "Due: before **28 November 11:59**\n",
    "\n",
    "In this assignment you will implement a simple database application with a REST interface. You'll use the Python [Bottle](https://bottlepy.org/docs/dev/tutorial.html) framework to handle the routing of requests to your code. I'll show you how it is done with an example below.\n",
    "\n",
    "We're running the server inside this notebook. Of course in the real world you wouldn't do it like this but the code would be nearly the same. Look at the examples in the [REST lecture notes](https://wwwx.cs.unc.edu/Courses/comp521-f18/media/CH7-InternetReST.html) for details. You don't have to do any of that for this assignment.\n",
    "\n",
    "A bit of explanation about how this is working. You are writing functions that are bound to **routes** by the Bottle framework. The **decorator** above the function definition describes the binding. It looks like magic but under the\n",
    "covers they are simply building a table that maps strings in URLs to function calls. A simple route might look like this:\n",
    "\n",
    "```python\n",
    "@app.route('/foo')        # this is the decorator describing the route\n",
    "def index():              # this is the function to call\n",
    "    return {'r': 'Hello'} # return an object with key r and value \"Hello\"\n",
    "```\n",
    "\n",
    "When I am testing your code, I call a function I wrote named `getJson`. `getJson('foo')` uses the Python standard library to submit an HTTP request to `http://localhost:8080/foo`. The Bottle server (running in a background thread) receives the request, finds your function, calls it, and then packages whatever the function returns as a HTTP response. `getJson` gets that response, interprets the response code and decodes the JSON, if any. So, it may look like magic but it is all pretty standard web stuff. The one weird thing here is that the **server** (your code) and the **client** (my test code) are running in the same program. You can see the magic in the `server.py` file included with the assignment.\n",
    "\n",
    "If you would like to see your server working, simply open another tab in your browser and enter a URL like http://localhost:8080/classes to see the list of classes. I use the [JSONview extension for Chrome](https://chrome.google.com/webstore/detail/jsonview/chklaanhfefbnpoihckbnefhakgolnmc?hl=en) to nicely format the JSON for me but that isn't necessary for this assignment."
   ]
  },
  {
   "cell_type": "markdown",
   "metadata": {},
   "source": [
    "## DB Schema\n",
    "\n",
    "```sql\n",
    "CREATE TABLE student (\n",
    "    sid INTEGER PRIMARY KEY,\n",
    "    fname TEXT,\n",
    "    lname TEXT)\n",
    "\n",
    "CREATE TABLE course (\n",
    "    cid INTEGER PRIMARY KEY,\n",
    "    name TEXT,\n",
    "    number TEXT,\n",
    "    department TEXT,\n",
    "    credit_hours INTEGER)\n",
    "\n",
    "CREATE TABLE enrolled_in (\n",
    "    sid INTEGER,\n",
    "    cid INTEGER,\n",
    "    FOREIGN KEY(sid) REFERENCES student,\n",
    "    FOREIGN KEY(cid) REFERENCES course,\n",
    "    UNIQUE (sid, cid))\n",
    "```"
   ]
  },
  {
   "cell_type": "markdown",
   "metadata": {},
   "source": [
    "## Setup\n",
    "\n",
    "Some text with a pink background will appear below this next cell. It should read:\n",
    "\n",
    "```\n",
    "Bottle v0.13-dev server starting up (using MyWSGIRefServer())...\n",
    "Listening on http://127.0.0.1:8080/\n",
    "Hit Ctrl-C to quit.\n",
    "```"
   ]
  },
  {
   "cell_type": "code",
   "execution_count": 1,
   "metadata": {},
   "outputs": [
    {
     "name": "stderr",
     "output_type": "stream",
     "text": [
      "Bottle v0.13-dev server starting up (using MyWSGIRefServer())...\n",
      "Listening on http://127.0.0.1:8080/\n",
      "Hit Ctrl-C to quit.\n",
      "\n"
     ]
    }
   ],
   "source": [
    "import bottle\n",
    "import sqlite3\n",
    "\n",
    "# I have a hacked this so that the server runs in a background thread allowing \n",
    "# you go keep working without restarting it. Feel free to look at the code but\n",
    "# don't change it.\n",
    "from server import app, root, getJson, makeURL\n",
    "\n",
    "import comp521\n",
    "check, report = comp521.start('A4')\n",
    "\n",
    "# some text should appear below with a pink background. It looks like an error \n",
    "# but the notebook is showing it in pink because it came out on stderr."
   ]
  },
  {
   "cell_type": "markdown",
   "metadata": {},
   "source": [
    "## Setup (optional)\n",
    "**This next cell is completely optional.** [James Jushchuk](mailto:jushchuk@cs.unc.edu) (one of the TA's) is doing research on providing help to students based on the work of other students. For this research he need student data. By agreeing to help with the research your work would be logged locally in a file called A4_log.json in the same folder as A4. You would then email this file to James (jushchuk@cs.unc.edu) upon completion of A4.\n",
    "\n",
    "**This is completely voluntary**, but if you would like to participate, please read [this consent form](https://docs.google.com/document/d/1pgwci_3N1F8DLJy58SNhJ5cBNqg-lxr2AptYkAcWkes/edit?usp=sharing), change the IRB_CONSENT to True, and uncomment the lines below.\n",
    "\n",
    "If you ever want to stop participating you can simply restart the notebook, re-comment the lines, and delete A4_log.json. \n",
    "\n",
    "This will only log A4.ipynb and only when A4.ipynb is running. Nothing else is logged. Feel free to look at the logger.py to see what is logged but don't change it."
   ]
  },
  {
   "cell_type": "code",
   "execution_count": 2,
   "metadata": {},
   "outputs": [],
   "source": [
    "#import logger\n",
    "#IRB_consent = False\n",
    "#logger.start(IRB_consent)\n",
    "#%autosave 1"
   ]
  },
  {
   "cell_type": "markdown",
   "metadata": {},
   "source": [
    "## Helpers\n",
    "\n",
    "### Reset DB\n",
    "\n",
    "This cell defines a function that will reset the DB back to the initial state. This will prevent you from going insane because you can't get the correct answer with a database that is different from mine. Of course you wouldn't do this in the real world."
   ]
  },
  {
   "cell_type": "code",
   "execution_count": 3,
   "metadata": {},
   "outputs": [],
   "source": [
    "# don't change this\n",
    "\n",
    "import shutil\n",
    "import os\n",
    "import stat\n",
    "\n",
    "dbName = 'A4.db'\n",
    "\n",
    "def resetDB():\n",
    "    \"\"\"Restore the db to the original state\"\"\"\n",
    "    os.chmod('A4Save.db', stat.S_IRUSR)\n",
    "    shutil.copyfile('A4Save.db', dbName)\n",
    "    \n",
    "resetDB()"
   ]
  },
  {
   "cell_type": "markdown",
   "metadata": {},
   "source": [
    "### Connect to DB\n",
    "\n",
    "Use this function inside your handler to connect to the DB. It will take care of closing it for you when the request is completed."
   ]
  },
  {
   "cell_type": "code",
   "execution_count": 4,
   "metadata": {},
   "outputs": [],
   "source": [
    "# don't change this\n",
    "\n",
    "def connect(name):\n",
    "    '''Return a db connection that will close and commit automatically'''\n",
    "    conn = sqlite3.connect(name)\n",
    "    conn.row_factory = sqlite3.Row\n",
    "    return conn"
   ]
  },
  {
   "cell_type": "markdown",
   "metadata": {},
   "source": [
    "### makeURL Helper function\n",
    "\n",
    "Use this to create the URLs to hand back in the JSON. You just call it like\n",
    "\n",
    "`makeURL('students', 123)`\n",
    "\n",
    "and it will create a URL in the right format to return."
   ]
  },
  {
   "cell_type": "markdown",
   "metadata": {},
   "source": [
    "# Example\n",
    "\n",
    "I'll complete this one for you in entirety as an example of what you need to do. Pay close attention to the structure."
   ]
  },
  {
   "cell_type": "markdown",
   "metadata": {},
   "source": [
    "### Q0. GET /students List students\n",
    "\n",
    "When a GET request is received with URL `/students` you should return a JSON object with a single key `students` and value list of students in order by increasing `id`. Like this:\n",
    "\n",
    "```\n",
    "{ 'students': [\n",
    "    {\n",
    "        \"lastName\": \"Bishop\",\n",
    "        \"firstName\": \"Gary\",\n",
    "        \"id\": \"http://localhost:8080/students/123\"\n",
    "    }\n",
    "  ]\n",
    "}\n",
    "```"
   ]
  },
  {
   "cell_type": "code",
   "execution_count": 5,
   "metadata": {},
   "outputs": [
    {
     "name": "stdout",
     "output_type": "stream",
     "text": [
      "http response = 200\n",
      "{'students': [{'firstName': 'Ashwin',\n",
      "   'id': '/students/0',\n",
      "   'lastName': 'Carter'},\n",
      "  {'firstName': 'Alexandros', 'id': '/students/1', 'lastName': 'Velasquez'},\n",
      "  {'firstName': 'Ainsley', 'id': '/students/2', 'lastName': 'Beach'},\n",
      "  {'firstName': 'Kamile', 'id': '/students/3', 'lastName': 'Person'},\n",
      "  {'firstName': 'Maciej', 'id': '/students/4', 'lastName': 'Buck'},\n",
      "  {'firstName': 'Evalyn', 'id': '/students/5', 'lastName': 'Macfarlane'},\n",
      "  {'firstName': 'Monty', 'id': '/students/6', 'lastName': 'Schroeder'},\n",
      "  {'firstName': 'Kiri', 'id': '/students/7', 'lastName': 'Ryder'},\n",
      "  ...]}\n",
      "Q0. List students appears correct\n"
     ]
    },
    {
     "name": "stderr",
     "output_type": "stream",
     "text": [
      "127.0.0.1 - - [26/Nov/2018 19:21:02] \"get /students HTTP/1.1\" 200 10381\n"
     ]
    }
   ],
   "source": [
    "# I have completed this one. You do NOT need to change it\n",
    "\n",
    "@app.route('/students')\n",
    "def indexStudents():\n",
    "    \"\"\"List students\"\"\"\n",
    "    # open the DB; commit and close when we exit the block\n",
    "    with connect(dbName) as db:\n",
    "        # run the sql query to get all the students\n",
    "        cursor = db.execute('''select sid, lname, fname from student order by sid''')\n",
    "        # reformat the data\n",
    "        result = [ { \"lastName\": lname, \"firstName\": fname, \"id\": makeURL('students', sid) }\n",
    "                   for sid, lname, fname in cursor ]\n",
    "        # Bottle is going to magically convert this dictionary to JSON\n",
    "        return { 'students': result }\n",
    "\n",
    "check('Q0. List students', getJson('students'), points=0)"
   ]
  },
  {
   "cell_type": "markdown",
   "metadata": {},
   "source": [
    "# Questions"
   ]
  },
  {
   "cell_type": "markdown",
   "metadata": {},
   "source": [
    "### Q1. GET /students/123 Return specific student data\n",
    "\n",
    "Return 404 if the given ID is invalid otherwise your result should look like this:\n",
    "```\n",
    "{\n",
    "    \"lastName\": \"Bishop\",\n",
    "    \"firstName\": \"Gary\",\n",
    "    \"id\": \"http://localhost:8080/students/3\",\n",
    "    \"classes\": [\n",
    "        \"http://localhost:8080/classes/1\",\n",
    "        \"http://localhost:8080/classes/4\"\n",
    "    ]\n",
    "}\n",
    "```\n",
    "\n",
    "Whenever you produce a list, order it by id.\n",
    "\n",
    "You can produce a 404 response like this:\n",
    "\n",
    "```python\n",
    "return bottle.HTTPResponse(status=404)\n",
    "```"
   ]
  },
  {
   "cell_type": "code",
   "execution_count": 7,
   "metadata": {},
   "outputs": [
    {
     "name": "stdout",
     "output_type": "stream",
     "text": [
      "http response = 200\n",
      "{'classes': ['/classes/1', '/classes/3', '/classes/25'],\n",
      " 'firstName': 'Alexandros',\n",
      " 'id': '/students/1',\n",
      " 'lastName': 'Velasquez'}\n",
      "Q1. Student info appears correct\n"
     ]
    },
    {
     "name": "stderr",
     "output_type": "stream",
     "text": [
      "127.0.0.1 - - [27/Nov/2018 19:58:58] \"get /students/1 HTTP/1.1\" 200 129\n"
     ]
    }
   ],
   "source": [
    "@app.route('/students/<sid>')\n",
    "def student(sid):\n",
    "    \"\"\"Return students info and classes\"\"\"\n",
    "    with connect(dbName) as db:\n",
    "        # write your code here\n",
    "        cursor = db.execute('''select sid, lname, fname from student where sid = ?''',[sid])\n",
    "        row = cursor.fetchone()\n",
    "        cursor1 = db.execute('''select cid from enrolled_in where sid = ?''',[sid])\n",
    "        classes = [makeURL('classes', i['cid']) for i in cursor1.fetchall()]\n",
    "        \n",
    "        if not row:\n",
    "            return bottle.HTTPResponse(status=404)\n",
    "        \n",
    "        result = [{'lastName': row['lname'],\n",
    "                  'firstName': row['fname'],\n",
    "                  'id': makeURL('students', sid),\n",
    "                  'classes': classes}]\n",
    "        \n",
    "        return {'lastName': row['lname'],\n",
    "                  'firstName': row['fname'],\n",
    "                  'id': makeURL('students', sid),\n",
    "                  'classes': classes}\n",
    "\n",
    "\n",
    "check('Q1. Student info', getJson('students', 1), points=5)"
   ]
  },
  {
   "cell_type": "markdown",
   "metadata": {},
   "source": [
    "### Q2. DELETE /students/123\n",
    "\n",
    "Delete the student and all of their enrollments. Produce a 404 if the student id is invalid. Produce a [204 response](https://tools.ietf.org/html/rfc7231#section-4.3.5) if successful."
   ]
  },
  {
   "cell_type": "code",
   "execution_count": 13,
   "metadata": {},
   "outputs": [
    {
     "name": "stdout",
     "output_type": "stream",
     "text": [
      "http response = 204\n",
      "Q2. Student delete appears correct\n",
      "http response = 404\n",
      "Q2. Student delete again appears correct\n"
     ]
    },
    {
     "name": "stderr",
     "output_type": "stream",
     "text": [
      "127.0.0.1 - - [27/Nov/2018 20:07:03] \"delete /students/1 HTTP/1.1\" 204 0\n",
      "127.0.0.1 - - [27/Nov/2018 20:07:03] \"delete /students/1 HTTP/1.1\" 404 0\n"
     ]
    }
   ],
   "source": [
    "@app.route('/students/<sid>', method=\"delete\")\n",
    "def deleteStudent(sid):\n",
    "    \"\"\"Delete a student and their enrollment\"\"\"\n",
    "    with connect(dbName) as db:\n",
    "        cursorA = db.execute('''select sid from student where sid = ?''',[sid])\n",
    "        row = cursorA.fetchone()\n",
    "    \n",
    "        if row == None:\n",
    "            return bottle.HTTPResponse(status=404)\n",
    "    \n",
    "        cursorC = db.execute('''delete from student where sid = ?''',[sid])\n",
    "        cursorB = db.execute('''delete from enrolled_in where sid = ?''',[sid])\n",
    "    \n",
    "        return bottle.HTTPResponse(status=204)\n",
    "    \n",
    "\n",
    "resetDB()\n",
    "# this one should succeed returning a 204\n",
    "check('Q2. Student delete', getJson('students', 1, method='delete'))\n",
    "# this one should fail returning 404\n",
    "check('Q2. Student delete again', getJson('students', 1, method='delete'))"
   ]
  },
  {
   "cell_type": "markdown",
   "metadata": {},
   "source": [
    "### Q3. POST /students create a student\n",
    "\n",
    "The POST body will be json like this:\n",
    "```\n",
    "{\n",
    "    \"lastName\": \"Bishop\",\n",
    "    \"firstName\": \"Gary\"\n",
    "}\n",
    "```\n",
    "I have included the code below to extract the POST body and convert it from json to a Python dictionary ready\n",
    "for you to access the values like `body['lastName']`.\n",
    "\n",
    "Return a response like this:\n",
    "```\n",
    "{\n",
    "    \"lastName\": \"Bishop\",\n",
    "    \"firstName\": \"Gary\",\n",
    "    \"id\": \"http://localhost:8080/students/123\"\n",
    "}\n",
    "```\n",
    "\n",
    "The returned \"id\" should be the next id in the table. "
   ]
  },
  {
   "cell_type": "code",
   "execution_count": 19,
   "metadata": {},
   "outputs": [
    {
     "name": "stdout",
     "output_type": "stream",
     "text": [
      "http response = 200\n",
      "{'firstName': 'Gary', 'id': '/students/150', 'lastName': 'Bishop'}\n",
      "Q3. Insert a new student appears correct\n"
     ]
    },
    {
     "name": "stderr",
     "output_type": "stream",
     "text": [
      "127.0.0.1 - - [27/Nov/2018 21:00:53] \"post /students HTTP/1.1\" 200 66\n"
     ]
    }
   ],
   "source": [
    "@app.route('/students', method='post')\n",
    "def addStudent():\n",
    "    \"\"\"Insert a new student\"\"\"\n",
    "    with connect(dbName) as db:\n",
    "        body = bottle.request.json\n",
    "        # write your code here\n",
    "        cursor = db.execute('''insert into student (lname, fname) values (?,?)''', (body['lastName'], body['firstName']))\n",
    "        row = cursor.fetchone()\n",
    "        \n",
    "        return {'lastName': body['lastName'],\n",
    "                  'firstName': body['firstName'],\n",
    "                  'id': makeURL('students', cursor.lastrowid)}\n",
    "\n",
    "resetDB()\n",
    "aStudent = { \"lastName\": \"Bishop\", \"firstName\": \"Gary\" }\n",
    "check('Q3. Insert a new student', getJson('students', method='post', postData=aStudent))"
   ]
  },
  {
   "cell_type": "markdown",
   "metadata": {},
   "source": [
    "### Q4. PUT /students/1 update a student\n",
    "\n",
    "Update the name of an existing student. The PUT body will be json like this:\n",
    "```\n",
    "{\n",
    "    \"lastName\": \"Bishop\",\n",
    "    \"firstName\": \"Gary\"\n",
    "}\n",
    "```\n",
    "Return a 204 response on success and 404 on failure."
   ]
  },
  {
   "cell_type": "code",
   "execution_count": 34,
   "metadata": {},
   "outputs": [
    {
     "name": "stdout",
     "output_type": "stream",
     "text": [
      "http response = 204\n",
      "Q4. Update a student appears correct\n",
      "http response = 404\n",
      "Q4. Update a bogus student appears correct\n"
     ]
    },
    {
     "name": "stderr",
     "output_type": "stream",
     "text": [
      "127.0.0.1 - - [27/Nov/2018 21:36:34] \"put /students/1 HTTP/1.1\" 204 0\n",
      "127.0.0.1 - - [27/Nov/2018 21:36:34] \"put /students/999 HTTP/1.1\" 404 0\n"
     ]
    }
   ],
   "source": [
    "@app.route('/students/<sid>', method='put')\n",
    "def updateStudent(sid):\n",
    "    \"\"\"Update student info\"\"\"\n",
    "    with connect(dbName) as db:\n",
    "        body = bottle.request.json\n",
    "        # write your code here\n",
    "        cursor = db.execute('''select * from student where sid = ?''', [sid])\n",
    "        row = cursor.fetchone()\n",
    "        \n",
    "        if row == None:\n",
    "            return bottle.HTTPResponse(status=404)\n",
    "        \n",
    "        cursor = db.execute('''update student set lname = ?, fname = ? where sid = ?''', \n",
    "                            (body['lastName'], body['firstName'], sid))\n",
    "        \n",
    "        return bottle.HTTPResponse(status=204)\n",
    "\n",
    "resetDB()\n",
    "aStudent = { \"lastName\": \"Bishop\", \"firstName\": \"Gary\" }\n",
    "check('Q4. Update a student', getJson('students', 1, method='put', postData=aStudent))\n",
    "check('Q4. Update a bogus student', getJson('students', 999, method='put', postData=aStudent))"
   ]
  },
  {
   "cell_type": "markdown",
   "metadata": {},
   "source": [
    "### Q5. GET /classes Return list of classes\n",
    "\n",
    "Return an object with single key `classes` and value list of objects in class id order like this:\n",
    "```\n",
    "{ \"classes\": [\n",
    "    {\n",
    "        \"id\": \"http://localhost:8080/classes/123\",\n",
    "        \"name\": \"Biology\",\n",
    "        \"number\": \"345\"\n",
    "    }\n",
    "  ]\n",
    "}\n",
    "```"
   ]
  },
  {
   "cell_type": "code",
   "execution_count": 57,
   "metadata": {},
   "outputs": [
    {
     "name": "stdout",
     "output_type": "stream",
     "text": [
      "http response = 200\n",
      "{'classes': [{'id': '/classes/0',\n",
      "   'name': 'Principles of Biology',\n",
      "   'number': '101'},\n",
      "  {'id': '/classes/1',\n",
      "   'name': 'Molecular Biology and Genetics',\n",
      "   'number': '202'},\n",
      "  {'id': '/classes/2', 'name': 'Biotransport', 'number': '315'},\n",
      "  {'id': '/classes/3', 'name': 'Biomedical Solid Mechanics', 'number': '345'},\n",
      "  {'id': '/classes/4',\n",
      "   'name': 'Principles of Statistical Inference',\n",
      "   'number': '600'},\n",
      "  {'id': '/classes/5',\n",
      "   'name': 'Introduction to Organic Chemistry I',\n",
      "   'number': '261'},\n",
      "  {'id': '/classes/6',\n",
      "   'name': 'Introduction to Polymer Chemistry',\n",
      "   'number': '420'},\n",
      "  {'id': '/classes/7', 'name': 'Compliers', 'number': '520'},\n",
      "  ...]}\n",
      "Q5. List classes appears correct\n"
     ]
    },
    {
     "name": "stderr",
     "output_type": "stream",
     "text": [
      "127.0.0.1 - - [28/Nov/2018 12:22:28] \"get /classes HTTP/1.1\" 200 1956\n"
     ]
    }
   ],
   "source": [
    "@app.route('/classes')\n",
    "def listClasses():\n",
    "    \"\"\"Return a list of classes\"\"\"\n",
    "    # write your code here\n",
    "    with connect(dbName) as db:\n",
    "        cursor = db.execute('''select cid, name, number from course order by cid''')\n",
    "    \n",
    "        result = [{ \"id\": makeURL(\"classes\", cid), \"name\": name, \"number\": number }\n",
    "                   for cid, name, number in cursor ]\n",
    "    \n",
    "        return { 'classes': result }\n",
    "    \n",
    "\n",
    "resetDB()\n",
    "check('Q5. List classes', getJson('classes'), points=5)"
   ]
  },
  {
   "cell_type": "markdown",
   "metadata": {},
   "source": [
    "### Q6. GET /classes/123 Return class info\n",
    "\n",
    "Return info on a specific class; 404 if it doesn't exist. The result should look like this:\n",
    "\n",
    "```json\n",
    "{\n",
    "    \"id\": \"http://127.0.0.1:8080/classes/1\",\n",
    "    \"name\": \"Molecular Biology and Genetics\",\n",
    "    \"department\": \"BIOL\",\n",
    "    \"number\": 123,\n",
    "    \"credit\": 3,\n",
    "    \"enrollment\": 23\n",
    "}\n",
    "```"
   ]
  },
  {
   "cell_type": "code",
   "execution_count": 60,
   "metadata": {},
   "outputs": [
    {
     "name": "stdout",
     "output_type": "stream",
     "text": [
      "http response = 200\n",
      "{'credit': 4,\n",
      " 'department': 'BIOL',\n",
      " 'enrollment': 23,\n",
      " 'id': '/classes/1',\n",
      " 'name': 'Molecular Biology and Genetics',\n",
      " 'number': '202'}\n",
      "Q6. get class info appears correct\n",
      "http response = 404\n",
      "Q6. get bogus class info appears correct\n"
     ]
    },
    {
     "name": "stderr",
     "output_type": "stream",
     "text": [
      "127.0.0.1 - - [28/Nov/2018 12:23:31] \"get /classes/1 HTTP/1.1\" 200 132\n",
      "127.0.0.1 - - [28/Nov/2018 12:23:31] \"get /classes/999 HTTP/1.1\" 404 0\n"
     ]
    }
   ],
   "source": [
    "@app.route('/classes/<cid>')\n",
    "def classInfo(cid):\n",
    "    \"\"\"Return info on a single class\"\"\"\n",
    "    # write your code here\n",
    "    with connect(dbName) as db:\n",
    "        cursor = db.execute('''select cid, name, department, number, credit_hours from course where cid = ?''', [cid])\n",
    "        cursor1 = len(db.execute('''select * from enrolled_in where cid = ?''', [cid]).fetchall())\n",
    "        row = cursor.fetchone()\n",
    "        if not row:\n",
    "            return bottle.HTTPResponse(status=404)\n",
    "    \n",
    "        result = {\"id\": makeURL(\"classes\", cid), \"name\": row[\"name\"], \"department\": row[\"department\"], \n",
    "                  \"number\": row[\"number\"], \"credit\": row[\"credit_hours\"], \"enrollment\":cursor1}\n",
    "    \n",
    "        return result\n",
    "\n",
    "resetDB()\n",
    "check('Q6. get class info', getJson('classes', 1), points=5)\n",
    "check('Q6. get bogus class info', getJson('classes', 999), points=5)"
   ]
  },
  {
   "cell_type": "markdown",
   "metadata": {},
   "source": [
    "### Q8. PUT /classes/123/students/1  Add student 1 to class 123\n",
    "\n",
    "A [PUT](https://tools.ietf.org/html/rfc7231#section-4.3.4) request to a URL like `/classes/<cid>/students<sid>` should add the student to the class. It should return status 204 if the student was added, 404 if the student or class id is invalid, or 409 if the student is already in the class."
   ]
  },
  {
   "cell_type": "code",
   "execution_count": 87,
   "metadata": {},
   "outputs": [
    {
     "name": "stdout",
     "output_type": "stream",
     "text": [
      "http response = 204\n",
      "Q8. add class appears correct\n",
      "http response = 409\n",
      "Q8. add class again appears correct\n",
      "http response = 404\n",
      "Q8. add bogus class appears correct\n",
      "http response = 404\n",
      "Q8. add bogus student appears correct\n"
     ]
    },
    {
     "name": "stderr",
     "output_type": "stream",
     "text": [
      "127.0.0.1 - - [28/Nov/2018 14:37:45] \"put /classes/2/students/1 HTTP/1.1\" 204 0\n",
      "127.0.0.1 - - [28/Nov/2018 14:37:45] \"put /classes/2/students/1 HTTP/1.1\" 409 0\n",
      "127.0.0.1 - - [28/Nov/2018 14:37:45] \"put /classes/999/students/1 HTTP/1.1\" 404 0\n",
      "127.0.0.1 - - [28/Nov/2018 14:37:45] \"put /classes/1/students/999 HTTP/1.1\" 404 0\n"
     ]
    }
   ],
   "source": [
    "@app.route('/classes/<cid>/students/<sid>', method=\"put\")\n",
    "def addStudentToClass(cid, sid):\n",
    "    \"\"\"Add student to class\"\"\"\n",
    "    # write your code here\n",
    "    with connect(dbName) as db:\n",
    "        cursor = db.execute('''select sid from student where sid = ?''',[sid])\n",
    "        row = cursor.fetchone()\n",
    "        cursor1 = db.execute('''select cid from course where cid = ?''', [cid])\n",
    "        row1 = cursor1.fetchone()\n",
    "    \n",
    "        if row == None or row1 == None:\n",
    "            return bottle.HTTPResponse(status=404)\n",
    "\n",
    "        check_duplicate = db.execute('''select * from enrolled_in where sid = ? and cid = ?''', [sid,cid]).fetchone()        \n",
    "        if not check_duplicate:\n",
    "            db.execute('''insert into enrolled_in (sid, cid) values (?,?)''', (row[0],row1[0]))\n",
    "            return bottle.HTTPResponse(status=204)\n",
    "        else:\n",
    "            return bottle.HTTPResponse(status=409)\n",
    "        \n",
    "\n",
    "resetDB()\n",
    "check('Q8. add class', getJson('classes', 2, 'students', 1, method=\"put\"), points=5)\n",
    "check('Q8. add class again', getJson('classes', 2, 'students', 1, method=\"put\"), points=5)\n",
    "check('Q8. add bogus class', getJson('classes', 999, 'students', 1, method=\"put\"), points=5)\n",
    "check('Q8. add bogus student', getJson('classes', 1, 'students', 999, method=\"put\"), points=5)"
   ]
  },
  {
   "cell_type": "markdown",
   "metadata": {},
   "source": [
    "### Q10. DELETE /classes/123/1  Drop student 1 from class 123\n",
    "\n",
    "A [DELETE](https://tools.ietf.org/html/rfc7231#section-4.3.5) request to a URL like `/classes/<cid>/<sid>` should drop the student from the class. It should return status 204 if the student was dropped, or 404 if the student or class id is invalid."
   ]
  },
  {
   "cell_type": "code",
   "execution_count": 88,
   "metadata": {},
   "outputs": [
    {
     "name": "stdout",
     "output_type": "stream",
     "text": [
      "http response = 204\n",
      "Q10. drop class appears correct\n",
      "http response = 404\n",
      "Q10. drop class again appears correct\n",
      "http response = 404\n",
      "Q10. drop bogus class appears correct\n",
      "http response = 404\n",
      "Q10. drop bogus student appears correct\n"
     ]
    },
    {
     "name": "stderr",
     "output_type": "stream",
     "text": [
      "127.0.0.1 - - [28/Nov/2018 14:40:46] \"delete /classes/1/students/1 HTTP/1.1\" 204 0\n",
      "127.0.0.1 - - [28/Nov/2018 14:40:46] \"delete /classes/1/students/1 HTTP/1.1\" 404 0\n",
      "127.0.0.1 - - [28/Nov/2018 14:40:46] \"delete /classes/999/students/1 HTTP/1.1\" 404 0\n",
      "127.0.0.1 - - [28/Nov/2018 14:40:46] \"delete /classes/1/students/999 HTTP/1.1\" 404 0\n"
     ]
    }
   ],
   "source": [
    "@app.route('/classes/<cid>/students/<sid>', method=\"delete\")\n",
    "def dropStudentFromClass(cid, sid):\n",
    "    \"\"\"Drop student from class\"\"\"\n",
    "    # write your code here\n",
    "    with connect(dbName) as db:\n",
    "        cursor = db.execute('''select sid from student where sid = ?''',[sid])\n",
    "        row = cursor.fetchone()\n",
    "        cursor1 = db.execute('''select cid from course where cid = ?''', [cid])\n",
    "        row1 = cursor1.fetchone()\n",
    "        cursor2 = db.execute('''select s.fname from student s, enrolled_in e, course c where e.sid = s.sid and c.cid = e.cid\n",
    "                            and e.sid = ?''', [sid])\n",
    "        row2 = cursor2.fetchone()\n",
    "    \n",
    "        if row == None or row1 == None or row2 == None:\n",
    "            return bottle.HTTPResponse(status=404)\n",
    "        else:\n",
    "            db.execute('''delete from enrolled_in where sid = ?''', [sid])\n",
    "            return bottle.HTTPResponse(status=204)\n",
    "    \n",
    "\n",
    "resetDB()\n",
    "\n",
    "# this should succeed\n",
    "check('Q10. drop class', getJson('classes', 1, 'students', 1, method=\"delete\"), points=5)\n",
    "# this should fail because the student is no longer in the class\n",
    "check('Q10. drop class again', getJson('classes', 1, 'students', 1, method=\"delete\"), points=5)\n",
    "# this should fail because the class doesn't exist\n",
    "check('Q10. drop bogus class', getJson('classes', 999, 'students', 1, method=\"delete\"), points=5)\n",
    "# this should fail because the student doesn't exist\n",
    "check('Q10. drop bogus student', getJson('classes', 1, 'students', 999, method=\"delete\"), points=5)"
   ]
  },
  {
   "cell_type": "markdown",
   "metadata": {},
   "source": [
    "# Submit your work\n",
    "\n",
    "Enter your onyen and collaborators below and then run the cell. You'll get the usual submit button."
   ]
  },
  {
   "cell_type": "code",
   "execution_count": 89,
   "metadata": {},
   "outputs": [
    {
     "name": "stdout",
     "output_type": "stream",
     "text": [
      "  Collaborators: ['rahuln', 'johnnyni', 'here']\n",
      "Report for yuanming\n",
      "  18 of 18 appear correct, 60 of 60 points\n"
     ]
    },
    {
     "data": {
      "text/html": [
       "\n",
       "<p>Click the button below to submit your notebook. Watch for a confirmation message\n",
       "that your notebook was successfully uploaded. You may submit as often as you wish,\n",
       "only the last submission will count.</p>\n",
       "<button id=\"submitButton116\">Submit this notebook</button>\n",
       "<p id=\"submitResponse116\"></p>\n",
       "<script>\n",
       "var site = 'https://wwwx.cs.unc.edu/Courses/comp521-f18/';\n",
       "$('#submitButton116').on('click', function() {\n",
       "    var site = 'https://wwwx.cs.unc.edu/Courses/comp521-f18/',\n",
       "        $sresp = $('#submitResponse116'),\n",
       "        button = $('#submitButton116');\n",
       "    button.prop('disabled', true);\n",
       "    // wait until save is complete before pushing the notebook\n",
       "    $([IPython.events]).one('notebook_saved.Notebook', function() {\n",
       "        // get the token by logging in\n",
       "        $sresp.html('logging in');\n",
       "        $.ajax({\n",
       "            url: site + 'io/token/token.cgi',\n",
       "            dataType: 'jsonp'\n",
       "        }).done(function(data) {\n",
       "            var notebook = IPython.notebook.notebook_name,\n",
       "                uuid = data.token,\n",
       "                command = \"comp521.pushNotebook('\" + notebook + \"', '\" + uuid + \"')\",\n",
       "                kernel = IPython.notebook.kernel,\n",
       "                handler = function (out) {\n",
       "                    $('#comp116-stop-message').show();\n",
       "                    if (out.content.status == \"ok\") {\n",
       "                        $sresp.html(\"Successfully submitted \" + notebook);\n",
       "                        $('#comp116-stop-message').hide();\n",
       "                    } else if(out.content.status == \"error\") {\n",
       "                        $sresp.html(out.content.ename + \": \" + out.content.evalue);\n",
       "                    } else { // if output is something we haven't thought of\n",
       "                        $sresp.html(\"[out type not implemented]\")\n",
       "                    }\n",
       "                    button.prop('disabled', false);\n",
       "                };\n",
       "            $sresp.html('Submitting');\n",
       "            kernel.execute(command, {shell: { reply: handler }});\n",
       "        }).fail(function() {\n",
       "            $sresp.html('Login failed');\n",
       "            button.prop('disabled', false);\n",
       "        });\n",
       "    });\n",
       "    // trigger the save\n",
       "    $sresp.html('Saving');\n",
       "    IPython.notebook.save_notebook();\n",
       "});"
      ],
      "text/plain": [
       "<IPython.core.display.HTML object>"
      ]
     },
     "execution_count": 89,
     "metadata": {},
     "output_type": "execute_result"
    }
   ],
   "source": [
    "onyen = 'yuanming'\n",
    "collaborators = [ 'rahuln', 'johnnyni', 'here' ]\n",
    "\n",
    "# don't change this\n",
    "report(onyen, collaborators)"
   ]
  },
  {
   "cell_type": "markdown",
   "metadata": {},
   "source": [
    "## For optional logging study\n",
    "\n",
    "If you are logging your work, but the size is too large to email, uncomment and run this next line."
   ]
  },
  {
   "cell_type": "code",
   "execution_count": null,
   "metadata": {},
   "outputs": [],
   "source": [
    "#logger.compress_log()"
   ]
  }
 ],
 "metadata": {
  "kernelspec": {
   "display_name": "Python 3",
   "language": "python",
   "name": "python3"
  },
  "language_info": {
   "codemirror_mode": {
    "name": "ipython",
    "version": 3
   },
   "file_extension": ".py",
   "mimetype": "text/x-python",
   "name": "python",
   "nbconvert_exporter": "python",
   "pygments_lexer": "ipython3",
   "version": "3.6.4"
  },
  "toc": {
   "base_numbering": 1,
   "nav_menu": {},
   "number_sections": true,
   "sideBar": true,
   "skip_h1_title": false,
   "title_cell": "Table of Contents",
   "title_sidebar": "Contents",
   "toc_cell": false,
   "toc_position": {},
   "toc_section_display": true,
   "toc_window_display": false
  }
 },
 "nbformat": 4,
 "nbformat_minor": 2
}
